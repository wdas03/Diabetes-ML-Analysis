{
 "cells": [
  {
   "cell_type": "code",
   "execution_count": 1,
   "id": "610a39df-f350-415c-bf66-cc874be16429",
   "metadata": {
    "tags": []
   },
   "outputs": [
    {
     "data": {
      "text/html": [
       "<div>\n",
       "<style scoped>\n",
       "    .dataframe tbody tr th:only-of-type {\n",
       "        vertical-align: middle;\n",
       "    }\n",
       "\n",
       "    .dataframe tbody tr th {\n",
       "        vertical-align: top;\n",
       "    }\n",
       "\n",
       "    .dataframe thead th {\n",
       "        text-align: right;\n",
       "    }\n",
       "</style>\n",
       "<table border=\"1\" class=\"dataframe\">\n",
       "  <thead>\n",
       "    <tr style=\"text-align: right;\">\n",
       "      <th></th>\n",
       "      <th>Pregnancies</th>\n",
       "      <th>Glucose</th>\n",
       "      <th>BloodPressure</th>\n",
       "      <th>SkinThickness</th>\n",
       "      <th>Insulin</th>\n",
       "      <th>BMI</th>\n",
       "      <th>DiabetesPedigreeFunction</th>\n",
       "      <th>Age</th>\n",
       "      <th>Outcome</th>\n",
       "    </tr>\n",
       "  </thead>\n",
       "  <tbody>\n",
       "    <tr>\n",
       "      <th>0</th>\n",
       "      <td>6</td>\n",
       "      <td>148</td>\n",
       "      <td>72</td>\n",
       "      <td>35</td>\n",
       "      <td>0</td>\n",
       "      <td>33.6</td>\n",
       "      <td>0.627</td>\n",
       "      <td>50</td>\n",
       "      <td>1</td>\n",
       "    </tr>\n",
       "    <tr>\n",
       "      <th>1</th>\n",
       "      <td>1</td>\n",
       "      <td>85</td>\n",
       "      <td>66</td>\n",
       "      <td>29</td>\n",
       "      <td>0</td>\n",
       "      <td>26.6</td>\n",
       "      <td>0.351</td>\n",
       "      <td>31</td>\n",
       "      <td>0</td>\n",
       "    </tr>\n",
       "    <tr>\n",
       "      <th>2</th>\n",
       "      <td>8</td>\n",
       "      <td>183</td>\n",
       "      <td>64</td>\n",
       "      <td>0</td>\n",
       "      <td>0</td>\n",
       "      <td>23.3</td>\n",
       "      <td>0.672</td>\n",
       "      <td>32</td>\n",
       "      <td>1</td>\n",
       "    </tr>\n",
       "    <tr>\n",
       "      <th>3</th>\n",
       "      <td>1</td>\n",
       "      <td>89</td>\n",
       "      <td>66</td>\n",
       "      <td>23</td>\n",
       "      <td>94</td>\n",
       "      <td>28.1</td>\n",
       "      <td>0.167</td>\n",
       "      <td>21</td>\n",
       "      <td>0</td>\n",
       "    </tr>\n",
       "    <tr>\n",
       "      <th>4</th>\n",
       "      <td>0</td>\n",
       "      <td>137</td>\n",
       "      <td>40</td>\n",
       "      <td>35</td>\n",
       "      <td>168</td>\n",
       "      <td>43.1</td>\n",
       "      <td>2.288</td>\n",
       "      <td>33</td>\n",
       "      <td>1</td>\n",
       "    </tr>\n",
       "    <tr>\n",
       "      <th>...</th>\n",
       "      <td>...</td>\n",
       "      <td>...</td>\n",
       "      <td>...</td>\n",
       "      <td>...</td>\n",
       "      <td>...</td>\n",
       "      <td>...</td>\n",
       "      <td>...</td>\n",
       "      <td>...</td>\n",
       "      <td>...</td>\n",
       "    </tr>\n",
       "    <tr>\n",
       "      <th>763</th>\n",
       "      <td>10</td>\n",
       "      <td>101</td>\n",
       "      <td>76</td>\n",
       "      <td>48</td>\n",
       "      <td>180</td>\n",
       "      <td>32.9</td>\n",
       "      <td>0.171</td>\n",
       "      <td>63</td>\n",
       "      <td>0</td>\n",
       "    </tr>\n",
       "    <tr>\n",
       "      <th>764</th>\n",
       "      <td>2</td>\n",
       "      <td>122</td>\n",
       "      <td>70</td>\n",
       "      <td>27</td>\n",
       "      <td>0</td>\n",
       "      <td>36.8</td>\n",
       "      <td>0.340</td>\n",
       "      <td>27</td>\n",
       "      <td>0</td>\n",
       "    </tr>\n",
       "    <tr>\n",
       "      <th>765</th>\n",
       "      <td>5</td>\n",
       "      <td>121</td>\n",
       "      <td>72</td>\n",
       "      <td>23</td>\n",
       "      <td>112</td>\n",
       "      <td>26.2</td>\n",
       "      <td>0.245</td>\n",
       "      <td>30</td>\n",
       "      <td>0</td>\n",
       "    </tr>\n",
       "    <tr>\n",
       "      <th>766</th>\n",
       "      <td>1</td>\n",
       "      <td>126</td>\n",
       "      <td>60</td>\n",
       "      <td>0</td>\n",
       "      <td>0</td>\n",
       "      <td>30.1</td>\n",
       "      <td>0.349</td>\n",
       "      <td>47</td>\n",
       "      <td>1</td>\n",
       "    </tr>\n",
       "    <tr>\n",
       "      <th>767</th>\n",
       "      <td>1</td>\n",
       "      <td>93</td>\n",
       "      <td>70</td>\n",
       "      <td>31</td>\n",
       "      <td>0</td>\n",
       "      <td>30.4</td>\n",
       "      <td>0.315</td>\n",
       "      <td>23</td>\n",
       "      <td>0</td>\n",
       "    </tr>\n",
       "  </tbody>\n",
       "</table>\n",
       "<p>768 rows × 9 columns</p>\n",
       "</div>"
      ],
      "text/plain": [
       "     Pregnancies  Glucose  BloodPressure  SkinThickness  Insulin   BMI  \\\n",
       "0              6      148             72             35        0  33.6   \n",
       "1              1       85             66             29        0  26.6   \n",
       "2              8      183             64              0        0  23.3   \n",
       "3              1       89             66             23       94  28.1   \n",
       "4              0      137             40             35      168  43.1   \n",
       "..           ...      ...            ...            ...      ...   ...   \n",
       "763           10      101             76             48      180  32.9   \n",
       "764            2      122             70             27        0  36.8   \n",
       "765            5      121             72             23      112  26.2   \n",
       "766            1      126             60              0        0  30.1   \n",
       "767            1       93             70             31        0  30.4   \n",
       "\n",
       "     DiabetesPedigreeFunction  Age  Outcome  \n",
       "0                       0.627   50        1  \n",
       "1                       0.351   31        0  \n",
       "2                       0.672   32        1  \n",
       "3                       0.167   21        0  \n",
       "4                       2.288   33        1  \n",
       "..                        ...  ...      ...  \n",
       "763                     0.171   63        0  \n",
       "764                     0.340   27        0  \n",
       "765                     0.245   30        0  \n",
       "766                     0.349   47        1  \n",
       "767                     0.315   23        0  \n",
       "\n",
       "[768 rows x 9 columns]"
      ]
     },
     "execution_count": 1,
     "metadata": {},
     "output_type": "execute_result"
    }
   ],
   "source": [
    "import pandas as pd\n",
    "import numpy as np\n",
    "import matplotlib.pyplot as plt\n",
    "\n",
    "data = pd.read_csv('diabetes.csv')\n",
    "data"
   ]
  },
  {
   "cell_type": "code",
   "execution_count": 2,
   "id": "dffc0cea-ba34-4710-ac67-591998476299",
   "metadata": {},
   "outputs": [],
   "source": [
    "def print_vals(df, column_name):\n",
    "    print(\"Mean: {:.3f}, Median: {:.3f}, Sample Std: {:.3f}, Pop. Std: {:.3f}, Sample Var: {:.3f}, Pop. Var: {:.3f}, Range: {:.3f}\".\n",
    "                                                format(df[column_name].mean(), df[column_name].median(), \n",
    "                                                       df[column_name].std(), np.std(df[column_name]), df[column_name].var(), \n",
    "                                                       np.var(df[column_name]), df[column_name].max() - df[column_name].min()))"
   ]
  },
  {
   "cell_type": "code",
   "execution_count": 3,
   "id": "b3f2cf5e-946f-4217-86ca-0dfb291fe219",
   "metadata": {},
   "outputs": [
    {
     "name": "stdout",
     "output_type": "stream",
     "text": [
      "Mean: 3.845, Median: 3.000, Sample Std: 3.370, Pop. Std: 3.367, Sample Var: 11.354, Pop. Var: 11.339, Range: 17.000\n"
     ]
    }
   ],
   "source": [
    "print_vals(data, 'Pregnancies')"
   ]
  },
  {
   "cell_type": "code",
   "execution_count": 4,
   "id": "2762d0d2-5bd9-424d-af6c-120804d67bf8",
   "metadata": {},
   "outputs": [
    {
     "name": "stdout",
     "output_type": "stream",
     "text": [
      "Mean: 120.895, Median: 117.000, Sample Std: 31.973, Pop. Std: 31.952, Sample Var: 1022.248, Pop. Var: 1020.917, Range: 199.000\n"
     ]
    }
   ],
   "source": [
    "print_vals(data, 'Glucose')"
   ]
  },
  {
   "cell_type": "code",
   "execution_count": 5,
   "id": "8992d6c4-6d27-4a29-b007-29f97ed9da3f",
   "metadata": {},
   "outputs": [
    {
     "name": "stdout",
     "output_type": "stream",
     "text": [
      "Mean: 79.799, Median: 30.500, Sample Std: 115.244, Pop. Std: 115.169, Sample Var: 13281.180, Pop. Var: 13263.887, Range: 846.000\n"
     ]
    }
   ],
   "source": [
    "print_vals(data, 'Insulin')"
   ]
  },
  {
   "cell_type": "code",
   "execution_count": 6,
   "id": "7e603ec0-1744-4647-8112-11b5a6b03930",
   "metadata": {},
   "outputs": [
    {
     "name": "stdout",
     "output_type": "stream",
     "text": [
      "Mean: 69.105, Median: 72.000, Sample Std: 19.356, Pop. Std: 19.343, Sample Var: 374.647, Pop. Var: 374.159, Range: 122.000\n"
     ]
    }
   ],
   "source": [
    "print_vals(data, 'BloodPressure')"
   ]
  },
  {
   "cell_type": "code",
   "execution_count": 7,
   "id": "add0a32e-b5e7-421c-9a23-e1a7285e636d",
   "metadata": {},
   "outputs": [
    {
     "name": "stdout",
     "output_type": "stream",
     "text": [
      "Mean: 20.536, Median: 23.000, Sample Std: 15.952, Pop. Std: 15.942, Sample Var: 254.473, Pop. Var: 254.142, Range: 99.000\n"
     ]
    }
   ],
   "source": [
    "print_vals(data, 'SkinThickness')"
   ]
  },
  {
   "cell_type": "code",
   "execution_count": 8,
   "id": "f2ba4f14-446b-4687-9b93-678b48cccd8c",
   "metadata": {},
   "outputs": [
    {
     "name": "stdout",
     "output_type": "stream",
     "text": [
      "Mean: 31.993, Median: 32.000, Sample Std: 7.884, Pop. Std: 7.879, Sample Var: 62.160, Pop. Var: 62.079, Range: 67.100\n"
     ]
    }
   ],
   "source": [
    "print_vals(data, 'BMI')"
   ]
  },
  {
   "cell_type": "code",
   "execution_count": 9,
   "id": "e8175b9a-03b2-408c-86c8-9eb207fbd288",
   "metadata": {},
   "outputs": [
    {
     "data": {
      "text/plain": [
       "<AxesSubplot:ylabel='Frequency'>"
      ]
     },
     "execution_count": 9,
     "metadata": {},
     "output_type": "execute_result"
    },
    {
     "data": {
      "image/png": "[encoded data removed]",
      "text/plain": [
       "<Figure size 432x288 with 1 Axes>"
      ]
     },
     "metadata": {
      "needs_background": "light"
     },
     "output_type": "display_data"
    }
   ],
   "source": [
    "data['Insulin'].plot.hist()"
   ]
  },
  {
   "cell_type": "code",
   "execution_count": 10,
   "id": "c9f48eda-2980-4603-83c0-9ca2655ac6c7",
   "metadata": {},
   "outputs": [
    {
     "data": {
      "text/plain": [
       "<AxesSubplot:ylabel='Frequency'>"
      ]
     },
     "execution_count": 10,
     "metadata": {},
     "output_type": "execute_result"
    },
    {
     "data": {
      "image/png": "[encoded data removed]",
      "text/plain": [
       "<Figure size 432x288 with 1 Axes>"
      ]
     },
     "metadata": {
      "needs_background": "light"
     },
     "output_type": "display_data"
    }
   ],
   "source": [
    "data['Pregnancies'].plot.hist()"
   ]
  },
  {
   "cell_type": "code",
   "execution_count": 11,
   "id": "f4e9734b-6eff-414d-886a-7fe030f00150",
   "metadata": {},
   "outputs": [
    {
     "data": {
      "image/png": "[encoded data removed]",
      "text/plain": [
       "<Figure size 432x288 with 1 Axes>"
      ]
     },
     "metadata": {
      "needs_background": "light"
     },
     "output_type": "display_data"
    }
   ],
   "source": [
    "data['Glucose'].plot.hist()\n",
    "plt.savefig('Glucose Histogram.png')"
   ]
  },
  {
   "cell_type": "code",
   "execution_count": 12,
   "id": "586fe875-4285-4412-9f92-bf07389a364f",
   "metadata": {},
   "outputs": [
    {
     "data": {
      "image/png": "[encoded data removed]",
      "text/plain": [
       "<Figure size 432x288 with 1 Axes>"
      ]
     },
     "metadata": {
      "needs_background": "light"
     },
     "output_type": "display_data"
    }
   ],
   "source": [
    "data['Glucose'].plot.kde()\n",
    "plt.savefig('Glucose Density Graph.png')"
   ]
  },
  {
   "cell_type": "code",
   "execution_count": 13,
   "id": "1d7c1679-f5d2-415f-baef-01bed245d067",
   "metadata": {},
   "outputs": [
    {
     "data": {
      "text/plain": [
       "<AxesSubplot:ylabel='Density'>"
      ]
     },
     "execution_count": 13,
     "metadata": {},
     "output_type": "execute_result"
    },
    {
     "data": {
      "image/png": "[encoded data removed]",
      "text/plain": [
       "<Figure size 432x288 with 1 Axes>"
      ]
     },
     "metadata": {
      "needs_background": "light"
     },
     "output_type": "display_data"
    }
   ],
   "source": [
    "data['Insulin'].plot.kde()"
   ]
  },
  {
   "cell_type": "code",
   "execution_count": 14,
   "id": "749d9ca0-e75a-47e5-8a19-52d68ba31b8d",
   "metadata": {},
   "outputs": [
    {
     "data": {
      "text/plain": [
       "<AxesSubplot:ylabel='Density'>"
      ]
     },
     "execution_count": 14,
     "metadata": {},
     "output_type": "execute_result"
    },
    {
     "data": {
      "image/png": "[encoded data removed]",
      "text/plain": [
       "<Figure size 432x288 with 1 Axes>"
      ]
     },
     "metadata": {
      "needs_background": "light"
     },
     "output_type": "display_data"
    }
   ],
   "source": [
    "data['Pregnancies'].plot.kde()"
   ]
  },
  {
   "cell_type": "code",
   "execution_count": 15,
   "id": "15573794-2b1f-423c-b2d7-93af64dc4c98",
   "metadata": {},
   "outputs": [
    {
     "data": {
      "image/png": "[encoded data removed]",
      "text/plain": [
       "<Figure size 432x288 with 1 Axes>"
      ]
     },
     "metadata": {
      "needs_background": "light"
     },
     "output_type": "display_data"
    }
   ],
   "source": [
    "data.boxplot(column=['Glucose'])\n",
    "plt.savefig('Glucose Boxplot.png')"
   ]
  },
  {
   "cell_type": "code",
   "execution_count": 16,
   "id": "81cf7162-7e52-454e-aca8-f6935873c203",
   "metadata": {},
   "outputs": [
    {
     "data": {
      "text/plain": [
       "<AxesSubplot:>"
      ]
     },
     "execution_count": 16,
     "metadata": {},
     "output_type": "execute_result"
    },
    {
     "data": {
      "image/png": "[encoded data removed]",
      "text/plain": [
       "<Figure size 432x288 with 1 Axes>"
      ]
     },
     "metadata": {
      "needs_background": "light"
     },
     "output_type": "display_data"
    }
   ],
   "source": [
    "data.boxplot(column=['Pregnancies'])"
   ]
  },
  {
   "cell_type": "code",
   "execution_count": 17,
   "id": "608796a1-5bd6-414c-8b6d-918d64b91fcc",
   "metadata": {},
   "outputs": [
    {
     "data": {
      "text/plain": [
       "<AxesSubplot:>"
      ]
     },
     "execution_count": 17,
     "metadata": {},
     "output_type": "execute_result"
    },
    {
     "data": {
      "image/png": "[encoded data removed]",
      "text/plain": [
       "<Figure size 432x288 with 1 Axes>"
      ]
     },
     "metadata": {
      "needs_background": "light"
     },
     "output_type": "display_data"
    }
   ],
   "source": [
    "data.boxplot(column=['Insulin'])"
   ]
  },
  {
   "cell_type": "code",
   "execution_count": 18,
   "id": "2b16f1a1-20bd-42c5-a4bc-53a6ff39fb62",
   "metadata": {},
   "outputs": [],
   "source": [
    "def construct_reduced_pop(df, column):\n",
    "    return pd.DataFrame([df[column].min(), df[column].max(), df[column].median(), df[column].mean(), df[column].quantile(.25),\n",
    "                       df[column].quantile(.75), df[column].quantile(.15), df[column].quantile(.85)])"
   ]
  },
  {
   "cell_type": "code",
   "execution_count": 19,
   "id": "0243c37e-63b0-4c19-bd29-509e4921ac32",
   "metadata": {},
   "outputs": [
    {
     "data": {
      "text/html": [
       "<div>\n",
       "<style scoped>\n",
       "    .dataframe tbody tr th:only-of-type {\n",
       "        vertical-align: middle;\n",
       "    }\n",
       "\n",
       "    .dataframe tbody tr th {\n",
       "        vertical-align: top;\n",
       "    }\n",
       "\n",
       "    .dataframe thead th {\n",
       "        text-align: right;\n",
       "    }\n",
       "</style>\n",
       "<table border=\"1\" class=\"dataframe\">\n",
       "  <thead>\n",
       "    <tr style=\"text-align: right;\">\n",
       "      <th></th>\n",
       "      <th>0</th>\n",
       "    </tr>\n",
       "  </thead>\n",
       "  <tbody>\n",
       "    <tr>\n",
       "      <th>0</th>\n",
       "      <td>0.000000</td>\n",
       "    </tr>\n",
       "    <tr>\n",
       "      <th>1</th>\n",
       "      <td>199.000000</td>\n",
       "    </tr>\n",
       "    <tr>\n",
       "      <th>2</th>\n",
       "      <td>117.000000</td>\n",
       "    </tr>\n",
       "    <tr>\n",
       "      <th>3</th>\n",
       "      <td>120.894531</td>\n",
       "    </tr>\n",
       "    <tr>\n",
       "      <th>4</th>\n",
       "      <td>99.000000</td>\n",
       "    </tr>\n",
       "    <tr>\n",
       "      <th>5</th>\n",
       "      <td>140.250000</td>\n",
       "    </tr>\n",
       "    <tr>\n",
       "      <th>6</th>\n",
       "      <td>91.000000</td>\n",
       "    </tr>\n",
       "    <tr>\n",
       "      <th>7</th>\n",
       "      <td>156.000000</td>\n",
       "    </tr>\n",
       "  </tbody>\n",
       "</table>\n",
       "</div>"
      ],
      "text/plain": [
       "            0\n",
       "0    0.000000\n",
       "1  199.000000\n",
       "2  117.000000\n",
       "3  120.894531\n",
       "4   99.000000\n",
       "5  140.250000\n",
       "6   91.000000\n",
       "7  156.000000"
      ]
     },
     "execution_count": 19,
     "metadata": {},
     "output_type": "execute_result"
    }
   ],
   "source": [
    "reduced_pop = construct_reduced_pop(data, 'Glucose')\n",
    "reduced_pop"
   ]
  },
  {
   "cell_type": "code",
   "execution_count": 20,
   "id": "d765b835-0c7c-4e7e-8c15-069f200bafb7",
   "metadata": {},
   "outputs": [
    {
     "name": "stdout",
     "output_type": "stream",
     "text": [
      "Mean: 115.393, Median: 118.947, Sample Std: 57.903, Pop. Std: 54.163, Sample Var: 3352.725, Pop. Var: 2933.634, Range: 199.000\n"
     ]
    }
   ],
   "source": [
    "print_vals(reduced_pop, 0)"
   ]
  },
  {
   "cell_type": "code",
   "execution_count": 21,
   "id": "017e73ca-908d-4ec3-a62c-09ff4cb11f50",
   "metadata": {},
   "outputs": [
    {
     "data": {
      "image/png": "[encoded data removed]",
      "text/plain": [
       "<Figure size 432x288 with 1 Axes>"
      ]
     },
     "metadata": {
      "needs_background": "light"
     },
     "output_type": "display_data"
    }
   ],
   "source": [
    "reduced_pop.plot.hist()\n",
    "plt.savefig('Reduced Pop Histogram.png')"
   ]
  },
  {
   "cell_type": "code",
   "execution_count": 22,
   "id": "fd83e1b2-78d7-4ba1-8656-5deff5a08ed7",
   "metadata": {},
   "outputs": [
    {
     "data": {
      "image/png": "[encoded data removed]",
      "text/plain": [
       "<Figure size 432x288 with 1 Axes>"
      ]
     },
     "metadata": {
      "needs_background": "light"
     },
     "output_type": "display_data"
    }
   ],
   "source": [
    "reduced_pop.plot.kde()\n",
    "plt.savefig('Reduced Pop Density.png')"
   ]
  },
  {
   "cell_type": "code",
   "execution_count": 23,
   "id": "b67c58cc-aa3e-4559-84ad-050ccbbc111d",
   "metadata": {},
   "outputs": [
    {
     "data": {
      "image/png": "[encoded data removed]",
      "text/plain": [
       "<Figure size 432x288 with 1 Axes>"
      ]
     },
     "metadata": {
      "needs_background": "light"
     },
     "output_type": "display_data"
    }
   ],
   "source": [
    "reduced_pop.boxplot()\n",
    "plt.savefig('Reduced Pop Boxplot.png')"
   ]
  },
  {
   "cell_type": "code",
   "execution_count": 24,
   "id": "442b447f-0be7-49b8-a1df-716cd64a98a1",
   "metadata": {},
   "outputs": [
    {
     "data": {
      "text/plain": [
       "115.39306640625"
      ]
     },
     "execution_count": 24,
     "metadata": {},
     "output_type": "execute_result"
    }
   ],
   "source": [
    "reduced_pop.mean()[0]"
   ]
  },
  {
   "cell_type": "code",
   "execution_count": 25,
   "id": "18c19638-4934-4e8c-8ae0-13af5e4df8a4",
   "metadata": {},
   "outputs": [
    {
     "data": {
      "text/plain": [
       "3352.7245698656357"
      ]
     },
     "execution_count": 25,
     "metadata": {},
     "output_type": "execute_result"
    }
   ],
   "source": [
    "reduced_pop.var()[0]"
   ]
  },
  {
   "cell_type": "code",
   "execution_count": 26,
   "id": "aa30e2eb-8f61-42d8-ac6b-1422d9d201ef",
   "metadata": {},
   "outputs": [
    {
     "data": {
      "text/plain": [
       "2933.633998632431"
      ]
     },
     "execution_count": 26,
     "metadata": {},
     "output_type": "execute_result"
    }
   ],
   "source": [
    "np.var(reduced_pop)[0]"
   ]
  },
  {
   "cell_type": "code",
   "execution_count": 27,
   "id": "d8118b96-b584-460a-b55b-f19625130f52",
   "metadata": {},
   "outputs": [],
   "source": [
    "from itertools import combinations\n",
    "\n",
    "def sampling_dist_sample_mean(df, size, n=3):\n",
    "    # Get all possible combinations of indices of array for samples (size choose n (8 choose 3))\n",
    "    combos = combinations(range(size), n)\n",
    "    means = []\n",
    "    var = []\n",
    "    dist = []\n",
    "    \n",
    "    # Calculations on each sample \n",
    "    for c in combos:\n",
    "        means.append(df.iloc[list(c)].mean()[0])\n",
    "        var.append(df.iloc[list(c)].var()[0])\n",
    "        dist.append(np.array(df.iloc[list(c)]))\n",
    "        #print(df.iloc[list(c)])\n",
    "        #print(df.iloc[list(c)].mean())\n",
    "    #print(len(list(combos)))\n",
    "    return means, dist, var"
   ]
  },
  {
   "cell_type": "code",
   "execution_count": 28,
   "id": "b2ee7b7e-6d26-46d0-a014-8eef41b11cd9",
   "metadata": {},
   "outputs": [],
   "source": [
    "means, dist, var = sampling_dist_sample_mean(reduced_pop, 8, 3)"
   ]
  },
  {
   "cell_type": "code",
   "execution_count": 29,
   "id": "2c2cf61a-66c2-412a-8814-d9ade0f70137",
   "metadata": {},
   "outputs": [
    {
     "data": {
      "text/plain": [
       "115.39306640625"
      ]
     },
     "execution_count": 29,
     "metadata": {},
     "output_type": "execute_result"
    }
   ],
   "source": [
    "np.mean(means)"
   ]
  },
  {
   "cell_type": "code",
   "execution_count": 30,
   "id": "b5647e81-f6f5-405d-ad33-f836ac8a07b9",
   "metadata": {},
   "outputs": [
    {
     "data": {
      "text/plain": [
       "698.484285388674"
      ]
     },
     "execution_count": 30,
     "metadata": {},
     "output_type": "execute_result"
    }
   ],
   "source": [
    "np.var(means)"
   ]
  },
  {
   "cell_type": "code",
   "execution_count": 31,
   "id": "825bab69-ca58-4c33-95e1-e3ded067f044",
   "metadata": {},
   "outputs": [
    {
     "data": {
      "text/plain": [
       "0    711.184\n",
       "dtype: float64"
      ]
     },
     "execution_count": 31,
     "metadata": {},
     "output_type": "execute_result"
    }
   ],
   "source": [
    "pd.DataFrame(means).var()"
   ]
  },
  {
   "cell_type": "code",
   "execution_count": 32,
   "id": "8c146aff-3385-403f-a1da-6c0248cc300b",
   "metadata": {},
   "outputs": [
    {
     "data": {
      "text/plain": [
       "3352.7245698656347"
      ]
     },
     "execution_count": 32,
     "metadata": {},
     "output_type": "execute_result"
    }
   ],
   "source": [
    "np.mean(var)"
   ]
  },
  {
   "cell_type": "code",
   "execution_count": 33,
   "id": "f504c333-f207-49a8-a6b1-208f03ce1c82",
   "metadata": {},
   "outputs": [
    {
     "data": {
      "text/plain": [
       "<AxesSubplot:ylabel='Density'>"
      ]
     },
     "execution_count": 33,
     "metadata": {},
     "output_type": "execute_result"
    },
    {
     "data": {
      "image/png": "[encoded data removed]",
      "text/plain": [
       "<Figure size 432x288 with 1 Axes>"
      ]
     },
     "metadata": {
      "needs_background": "light"
     },
     "output_type": "display_data"
    }
   ],
   "source": [
    "pd.DataFrame(means).plot.kde()"
   ]
  },
  {
   "cell_type": "code",
   "execution_count": 34,
   "id": "3de81e26-e081-466c-847d-5e8a6165379b",
   "metadata": {},
   "outputs": [
    {
     "data": {
      "image/png": "[encoded data removed]",
      "text/plain": [
       "<Figure size 432x288 with 1 Axes>"
      ]
     },
     "metadata": {
      "needs_background": "light"
     },
     "output_type": "display_data"
    }
   ],
   "source": [
    "pd.DataFrame(means).plot.hist()\n",
    "plt.savefig('Sampling Dist of Sample Mean.png')"
   ]
  },
  {
   "cell_type": "code",
   "execution_count": 35,
   "id": "1c3b66a0-a3c7-4bf2-aaa2-54882ab4905a",
   "metadata": {},
   "outputs": [],
   "source": [
    "def var_single_sample(n, N, sample):\n",
    "    s_squared = pd.DataFrame(sample).var()[0]\n",
    "    print(\"s^2: {:.2f}\".format(s_squared))\n",
    "    return (1 - (n/N)) * (s_squared / n)"
   ]
  },
  {
   "cell_type": "code",
   "execution_count": 36,
   "id": "b2dceeea-6560-4dbf-939c-516cc8e8425a",
   "metadata": {},
   "outputs": [
    {
     "data": {
      "text/plain": [
       "array([[  0.],\n",
       "       [199.],\n",
       "       [156.]])"
      ]
     },
     "execution_count": 36,
     "metadata": {},
     "output_type": "execute_result"
    }
   ],
   "source": [
    "dist[5]"
   ]
  },
  {
   "cell_type": "code",
   "execution_count": 37,
   "id": "60b75bc0-e86f-49de-ab0a-0dd1bf00ee78",
   "metadata": {},
   "outputs": [
    {
     "name": "stdout",
     "output_type": "stream",
     "text": [
      "s^2: 10964.33\n"
     ]
    },
    {
     "data": {
      "text/plain": [
       "2284.2361111111113"
      ]
     },
     "execution_count": 37,
     "metadata": {},
     "output_type": "execute_result"
    }
   ],
   "source": [
    "var_single_sample(3, 8, dist[5])"
   ]
  },
  {
   "cell_type": "code",
   "execution_count": 38,
   "id": "2823c9e8-4240-44fd-9b5f-5270651ed688",
   "metadata": {},
   "outputs": [
    {
     "name": "stdout",
     "output_type": "stream",
     "text": [
      "s^2: 6591.00\n"
     ]
    },
    {
     "data": {
      "text/plain": [
       "1373.125"
      ]
     },
     "execution_count": 38,
     "metadata": {},
     "output_type": "execute_result"
    }
   ],
   "source": [
    "var_single_sample(3, 8, dist[10])"
   ]
  },
  {
   "cell_type": "code",
   "execution_count": 39,
   "id": "aad2dab9-83e0-467e-a70f-936894618a47",
   "metadata": {},
   "outputs": [
    {
     "name": "stdout",
     "output_type": "stream",
     "text": [
      "s^2: 2525.52\n"
     ]
    },
    {
     "data": {
      "text/plain": [
       "526.1501736111111"
      ]
     },
     "execution_count": 39,
     "metadata": {},
     "output_type": "execute_result"
    }
   ],
   "source": [
    "var_single_sample(3, 8, dist[30])"
   ]
  },
  {
   "cell_type": "code",
   "execution_count": 40,
   "id": "f4bc63eb-58e5-4ab2-ae13-4bc4aba49167",
   "metadata": {},
   "outputs": [
    {
     "name": "stdout",
     "output_type": "stream",
     "text": [
      "s^2: 1682.33\n"
     ]
    },
    {
     "data": {
      "text/plain": [
       "350.4861111111111"
      ]
     },
     "execution_count": 40,
     "metadata": {},
     "output_type": "execute_result"
    }
   ],
   "source": [
    "var_single_sample(3, 8, dist[25])"
   ]
  },
  {
   "cell_type": "code",
   "execution_count": 41,
   "id": "801a1525-12c2-4aa9-99fe-d208e76d8ba4",
   "metadata": {},
   "outputs": [
    {
     "name": "stdout",
     "output_type": "stream",
     "text": [
      "s^2: 10964.33\n",
      "s^2: 6591.00\n",
      "s^2: 2525.52\n"
     ]
    },
    {
     "data": {
      "text/plain": [
       "1394.5037615740741"
      ]
     },
     "execution_count": 41,
     "metadata": {},
     "output_type": "execute_result"
    }
   ],
   "source": [
    "(var_single_sample(3, 8, dist[5]) + var_single_sample(3, 8, dist[10]) + var_single_sample(3, 8, dist[30])) / 3"
   ]
  },
  {
   "cell_type": "code",
   "execution_count": 42,
   "id": "238361da-c4cb-4523-99df-0004265e1e92",
   "metadata": {},
   "outputs": [
    {
     "data": {
      "text/plain": [
       "<AxesSubplot:>"
      ]
     },
     "execution_count": 42,
     "metadata": {},
     "output_type": "execute_result"
    },
    {
     "data": {
      "image/png": "[encoded data removed]",
      "text/plain": [
       "<Figure size 432x288 with 1 Axes>"
      ]
     },
     "metadata": {
      "needs_background": "light"
     },
     "output_type": "display_data"
    }
   ],
   "source": [
    "pd.plotting.radviz(data.iloc[:, [0,2,3,4,5,6,8]], 'Outcome')"
   ]
  },
  {
   "cell_type": "code",
   "execution_count": 49,
   "id": "d9c92b9f-9de3-4da0-bfd6-e24a3db4efc9",
   "metadata": {},
   "outputs": [],
   "source": [
    "from datetime import datetime\n",
    "import time\n",
    "\n",
    "# Import classifiers\n",
    "from sklearn.neighbors import KNeighborsClassifier\n",
    "from sklearn.linear_model import LogisticRegression\n",
    "from sklearn.ensemble import RandomForestClassifier\n",
    "from sklearn.ensemble import GradientBoostingClassifier\n",
    "from sklearn.naive_bayes import GaussianNB\n",
    "from sklearn.tree import DecisionTreeClassifier\n",
    "from sklearn.svm import SVC\n",
    "\n",
    "# Import metrics\n",
    "from sklearn.metrics import precision_score, balanced_accuracy_score, accuracy_score, recall_score, f1_score, classification_report, roc_auc_score, confusion_matrix, roc_curve, auc, precision_recall_fscore_support, average_precision_score, make_scorer\n",
    "\n",
    "# Import data preprocessing libraries\n",
    "from sklearn.preprocessing import StandardScaler\n",
    "from sklearn.model_selection import train_test_split\n",
    "\n",
    "\n",
    "# Define models\n",
    "lr = LogisticRegression(random_state=0)\n",
    "knn = KNeighborsClassifier(n_neighbors=10, metric='minkowski', p=10)\n",
    "nb = GaussianNB()\n",
    "svc = SVC(kernel='linear', random_state=0, probability=True)\n",
    "rf = RandomForestClassifier(random_state=0)\n",
    "dt = DecisionTreeClassifier(random_state=0)\n",
    "\n",
    "# Create list of models\n",
    "models = []\n",
    "models.append(('Logistic Regression', lr))\n",
    "models.append(('KNN', knn))\n",
    "models.append(('Naive Bayes', nb))\n",
    "models.append(('SVC', svc))\n",
    "models.append(('Decision Tree', dt))\n",
    "models.append(('Random Forest', rf))\n",
    "\n",
    "# Empirical evaluation of all models: cross validation and test set accuray\n",
    "def run_models(X, y, test_size=1/5):\n",
    "    print('Running models...')\n",
    "    sc = StandardScaler()\n",
    "    X_train, X_test, y_train, y_test = train_test_split(X, y, test_size=test_size, random_state=0, stratify=y)\n",
    "    X_train = sc.fit_transform(X_train)\n",
    "    X_test = sc.transform(X_test)\n",
    "\n",
    "    for name, model in models:\n",
    "        model.fit(X_train, y_train)\n",
    "        accuracy = model.score(X_test, y_test)\n",
    "            \n",
    "        print(name, 'Accuracy:', accuracy)\n",
    "        y_pred = model.predict(X_test)\n",
    "        \n",
    "        #print('AUC:', get_auc(y_test, y_pred))\n",
    "        print('Average precision:', average_precision_score(y_test, y_pred))\n",
    "        print('Precision:', precision_score(y_test, y_pred))\n",
    "        print('Recall:', recall_score(y_test, y_pred))\n",
    "        print('F1 Score:', f1_score(y_test, y_pred))\n",
    "        print('Confusion Matrix')\n",
    "        print(confusion_matrix(y_test, y_pred))\n",
    "        print()"
   ]
  },
  {
   "cell_type": "code",
   "execution_count": 50,
   "id": "02a03cf3-d2c4-4916-a003-3a46d7a2eeaf",
   "metadata": {},
   "outputs": [
    {
     "data": {
      "text/html": [
       "<div>\n",
       "<style scoped>\n",
       "    .dataframe tbody tr th:only-of-type {\n",
       "        vertical-align: middle;\n",
       "    }\n",
       "\n",
       "    .dataframe tbody tr th {\n",
       "        vertical-align: top;\n",
       "    }\n",
       "\n",
       "    .dataframe thead th {\n",
       "        text-align: right;\n",
       "    }\n",
       "</style>\n",
       "<table border=\"1\" class=\"dataframe\">\n",
       "  <thead>\n",
       "    <tr style=\"text-align: right;\">\n",
       "      <th></th>\n",
       "      <th>Pregnancies</th>\n",
       "      <th>Glucose</th>\n",
       "      <th>SkinThickness</th>\n",
       "      <th>Insulin</th>\n",
       "      <th>BMI</th>\n",
       "      <th>DiabetesPedigreeFunction</th>\n",
       "    </tr>\n",
       "  </thead>\n",
       "  <tbody>\n",
       "    <tr>\n",
       "      <th>0</th>\n",
       "      <td>6</td>\n",
       "      <td>148</td>\n",
       "      <td>35</td>\n",
       "      <td>0</td>\n",
       "      <td>33.6</td>\n",
       "      <td>0.627</td>\n",
       "    </tr>\n",
       "    <tr>\n",
       "      <th>1</th>\n",
       "      <td>1</td>\n",
       "      <td>85</td>\n",
       "      <td>29</td>\n",
       "      <td>0</td>\n",
       "      <td>26.6</td>\n",
       "      <td>0.351</td>\n",
       "    </tr>\n",
       "    <tr>\n",
       "      <th>2</th>\n",
       "      <td>8</td>\n",
       "      <td>183</td>\n",
       "      <td>0</td>\n",
       "      <td>0</td>\n",
       "      <td>23.3</td>\n",
       "      <td>0.672</td>\n",
       "    </tr>\n",
       "    <tr>\n",
       "      <th>3</th>\n",
       "      <td>1</td>\n",
       "      <td>89</td>\n",
       "      <td>23</td>\n",
       "      <td>94</td>\n",
       "      <td>28.1</td>\n",
       "      <td>0.167</td>\n",
       "    </tr>\n",
       "    <tr>\n",
       "      <th>4</th>\n",
       "      <td>0</td>\n",
       "      <td>137</td>\n",
       "      <td>35</td>\n",
       "      <td>168</td>\n",
       "      <td>43.1</td>\n",
       "      <td>2.288</td>\n",
       "    </tr>\n",
       "    <tr>\n",
       "      <th>...</th>\n",
       "      <td>...</td>\n",
       "      <td>...</td>\n",
       "      <td>...</td>\n",
       "      <td>...</td>\n",
       "      <td>...</td>\n",
       "      <td>...</td>\n",
       "    </tr>\n",
       "    <tr>\n",
       "      <th>763</th>\n",
       "      <td>10</td>\n",
       "      <td>101</td>\n",
       "      <td>48</td>\n",
       "      <td>180</td>\n",
       "      <td>32.9</td>\n",
       "      <td>0.171</td>\n",
       "    </tr>\n",
       "    <tr>\n",
       "      <th>764</th>\n",
       "      <td>2</td>\n",
       "      <td>122</td>\n",
       "      <td>27</td>\n",
       "      <td>0</td>\n",
       "      <td>36.8</td>\n",
       "      <td>0.340</td>\n",
       "    </tr>\n",
       "    <tr>\n",
       "      <th>765</th>\n",
       "      <td>5</td>\n",
       "      <td>121</td>\n",
       "      <td>23</td>\n",
       "      <td>112</td>\n",
       "      <td>26.2</td>\n",
       "      <td>0.245</td>\n",
       "    </tr>\n",
       "    <tr>\n",
       "      <th>766</th>\n",
       "      <td>1</td>\n",
       "      <td>126</td>\n",
       "      <td>0</td>\n",
       "      <td>0</td>\n",
       "      <td>30.1</td>\n",
       "      <td>0.349</td>\n",
       "    </tr>\n",
       "    <tr>\n",
       "      <th>767</th>\n",
       "      <td>1</td>\n",
       "      <td>93</td>\n",
       "      <td>31</td>\n",
       "      <td>0</td>\n",
       "      <td>30.4</td>\n",
       "      <td>0.315</td>\n",
       "    </tr>\n",
       "  </tbody>\n",
       "</table>\n",
       "<p>768 rows × 6 columns</p>\n",
       "</div>"
      ],
      "text/plain": [
       "     Pregnancies  Glucose  SkinThickness  Insulin   BMI  \\\n",
       "0              6      148             35        0  33.6   \n",
       "1              1       85             29        0  26.6   \n",
       "2              8      183              0        0  23.3   \n",
       "3              1       89             23       94  28.1   \n",
       "4              0      137             35      168  43.1   \n",
       "..           ...      ...            ...      ...   ...   \n",
       "763           10      101             48      180  32.9   \n",
       "764            2      122             27        0  36.8   \n",
       "765            5      121             23      112  26.2   \n",
       "766            1      126              0        0  30.1   \n",
       "767            1       93             31        0  30.4   \n",
       "\n",
       "     DiabetesPedigreeFunction  \n",
       "0                       0.627  \n",
       "1                       0.351  \n",
       "2                       0.672  \n",
       "3                       0.167  \n",
       "4                       2.288  \n",
       "..                        ...  \n",
       "763                     0.171  \n",
       "764                     0.340  \n",
       "765                     0.245  \n",
       "766                     0.349  \n",
       "767                     0.315  \n",
       "\n",
       "[768 rows x 6 columns]"
      ]
     },
     "execution_count": 50,
     "metadata": {},
     "output_type": "execute_result"
    }
   ],
   "source": [
    "data.iloc[:, [0,1,3,4,5,6]]"
   ]
  },
  {
   "cell_type": "code",
   "execution_count": 51,
   "id": "dbafc2c8-7693-40f1-b8a4-fced53f4611d",
   "metadata": {},
   "outputs": [
    {
     "name": "stdout",
     "output_type": "stream",
     "text": [
      "Running models...\n",
      "Logistic Regression Accuracy: 0.8116883116883117\n",
      "Average precision: 0.6277168137633253\n",
      "Precision: 0.7906976744186046\n",
      "Recall: 0.6296296296296297\n",
      "F1 Score: 0.7010309278350516\n",
      "Confusion Matrix\n",
      "[[91  9]\n",
      " [20 34]]\n",
      "\n",
      "KNN Accuracy: 0.7857142857142857\n",
      "Average precision: 0.5831945831945833\n",
      "Precision: 0.7692307692307693\n",
      "Recall: 0.5555555555555556\n",
      "F1 Score: 0.6451612903225806\n",
      "Confusion Matrix\n",
      "[[91  9]\n",
      " [24 30]]\n",
      "\n",
      "Naive Bayes Accuracy: 0.7597402597402597\n",
      "Average precision: 0.5463244399414612\n",
      "Precision: 0.6808510638297872\n",
      "Recall: 0.5925925925925926\n",
      "F1 Score: 0.6336633663366336\n",
      "Confusion Matrix\n",
      "[[85 15]\n",
      " [22 32]]\n",
      "\n",
      "SVC Accuracy: 0.7987012987012987\n",
      "Average precision: 0.6053684346367273\n",
      "Precision: 0.7804878048780488\n",
      "Recall: 0.5925925925925926\n",
      "F1 Score: 0.6736842105263158\n",
      "Confusion Matrix\n",
      "[[91  9]\n",
      " [22 32]]\n",
      "\n",
      "Decision Tree Accuracy: 0.7532467532467533\n",
      "Average precision: 0.5379188712522046\n",
      "Precision: 0.6666666666666666\n",
      "Recall: 0.5925925925925926\n",
      "F1 Score: 0.627450980392157\n",
      "Confusion Matrix\n",
      "[[84 16]\n",
      " [22 32]]\n",
      "\n",
      "Random Forest Accuracy: 0.7857142857142857\n",
      "Average precision: 0.5853468832192237\n",
      "Precision: 0.723404255319149\n",
      "Recall: 0.6296296296296297\n",
      "F1 Score: 0.6732673267326733\n",
      "Confusion Matrix\n",
      "[[87 13]\n",
      " [20 34]]\n",
      "\n"
     ]
    }
   ],
   "source": [
    "run_models(data.iloc[:, [1,3,4,5,6]], data.iloc[:, -1], test_size=.2)"
   ]
  },
  {
   "cell_type": "code",
   "execution_count": null,
   "id": "10340517-8256-4eec-a6e4-77a6760f8447",
   "metadata": {},
   "outputs": [],
   "source": []
  }
 ],
 "metadata": {
  "kernelspec": {
   "display_name": "Python 3",
   "language": "python",
   "name": "python3"
  },
  "language_info": {
   "codemirror_mode": {
    "name": "ipython",
    "version": 3
   },
   "file_extension": ".py",
   "mimetype": "text/x-python",
   "name": "python",
   "nbconvert_exporter": "python",
   "pygments_lexer": "ipython3",
   "version": "3.8.2"
  }
 },
 "nbformat": 4,
 "nbformat_minor": 5
}
